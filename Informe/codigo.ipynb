{
 "cells": [
  {
   "cell_type": "code",
   "execution_count": 19,
   "metadata": {},
   "outputs": [],
   "source": [
    "# Importamos librerías de python que vamos a necesitar\n",
    "import math as m\n",
    "import numpy as np\n",
    "import scipy as sp\n",
    "import matplotlib.pyplot as plt\n",
    "from scipy.stats import norm"
   ]
  },
  {
   "cell_type": "code",
   "execution_count": 24,
   "metadata": {
    "scrolled": true
   },
   "outputs": [
    {
     "data": {
      "text/plain": [
       "[<matplotlib.lines.Line2D at 0x1e927b1c970>]"
      ]
     },
     "execution_count": 24,
     "metadata": {},
     "output_type": "execute_result"
    },
    {
     "data": {
      "text/plain": [
       "<Figure size 432x288 with 0 Axes>"
      ]
     },
     "metadata": {},
     "output_type": "display_data"
    },
    {
     "data": {
      "image/png": "[encoded data removed]",
      "text/plain": [
       "<Figure size 280x210 with 1 Axes>"
      ]
     },
     "metadata": {
      "needs_background": "light"
     },
     "output_type": "display_data"
    }
   ],
   "source": [
    "SNR_db = np.linspace(-5,30,36)\n",
    "\n",
    "SNR = 10**(SNR_db/10);\n",
    "\n",
    "p_dig1=(1/2)*(1-((1-2*(1-norm.cdf((SNR**(1/2)), 0, 1)))**1))\n",
    "p_dig5=(1/2)*(1-((1-2*(1-norm.cdf((SNR**(1/2)), 0, 1)))**5))\n",
    "p_dig9=(1/2)*(1-((1-2*(1-norm.cdf((SNR**(1/2)), 0, 1)))**9))\n",
    "p_dig13=(1/2)*(1-((1-2*(1-norm.cdf((SNR**(1/2)), 0, 1)))**13))\n",
    "p_dig17=(1/2)*(1-((1-2*(1-norm.cdf((SNR**(1/2)), 0, 1)))**17))\n",
    "p_dig21=(1/2)*(1-((1-2*(1-norm.cdf((SNR**(1/2)), 0, 1)))**21))\n",
    "p_dig25=(1/2)*(1-((1-2*(1-norm.cdf((SNR**(1/2)), 0, 1)))**25))\n",
    "\n",
    "\n",
    "p_an1  = (1-norm.cdf((((SNR)**(1/2))**1)/(((SNR+1)**1)-SNR**1)**(1/2), 0, 1));\n",
    "p_an5  = (1-norm.cdf((((SNR)**(1/2))**5)/(((SNR+1)**5)-SNR**5)**(1/2), 0, 1));\n",
    "p_an9  = (1-norm.cdf((((SNR)**(1/2))**9)/(((SNR+1)**9)-SNR**9)**(1/2), 0, 1));\n",
    "p_an13  = (1-norm.cdf((((SNR)**(1/2))**13)/(((SNR+1)**13)-SNR**13)**(1/2), 0, 1));\n",
    "p_an17  = (1-norm.cdf((((SNR)**(1/2))**17)/(((SNR+1)**17)-SNR**17)**(1/2), 0, 1));\n",
    "p_an21  = (1-norm.cdf((((SNR)**(1/2))**21)/(((SNR+1)**21)-SNR**21)**(1/2), 0, 1));\n",
    "p_an25  = (1-norm.cdf((((SNR)**(1/2))**25)/(((SNR+1)**25)-SNR**25)**(1/2), 0, 1));\n",
    "\n",
    "\n",
    "f = plt.figure()\n",
    "#plt.plot(\n",
    "w = 4\n",
    "h = 3\n",
    "d = 70\n",
    "plt.figure(figsize=(w, h), dpi=d)\n",
    "y = [20, 250, 100000]\n",
    "\n",
    "#plt.semilogy(y)\n",
    "\n",
    "plt.semilogy(SNR_db,p_dig1)\n",
    "plt.semilogy(SNR_db,p_dig5)\n",
    "plt.semilogy(SNR_db,p_dig9)\n",
    "\n",
    "\n"
   ]
  },
  {
   "cell_type": "code",
   "execution_count": null,
   "metadata": {},
   "outputs": [],
   "source": []
  }
 ],
 "metadata": {
  "kernelspec": {
   "display_name": "Python 3",
   "language": "python",
   "name": "python3"
  },
  "language_info": {
   "codemirror_mode": {
    "name": "ipython",
    "version": 3
   },
   "file_extension": ".py",
   "mimetype": "text/x-python",
   "name": "python",
   "nbconvert_exporter": "python",
   "pygments_lexer": "ipython3",
   "version": "3.8.3"
  }
 },
 "nbformat": 4,
 "nbformat_minor": 4
}
